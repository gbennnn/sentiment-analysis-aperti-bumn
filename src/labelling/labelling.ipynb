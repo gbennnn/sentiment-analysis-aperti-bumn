{
 "cells": [
  {
   "cell_type": "code",
   "execution_count": 1,
   "id": "2dcc4e4b",
   "metadata": {},
   "outputs": [],
   "source": [
    "from openai import OpenAI\n",
    "import pandas as pd\n",
    "import time\n",
    "import os\n",
    "from dotenv import load_dotenv\n",
    "# import requests"
   ]
  },
  {
   "cell_type": "code",
   "execution_count": 2,
   "id": "258cf589",
   "metadata": {},
   "outputs": [],
   "source": [
    "# Load API Key dari .env\n",
    "load_dotenv()\n",
    "client = OpenAI(api_key=os.getenv(\"OPENAI_API_KEY\"))\n",
    "\n",
    "# === [2] Baca file CSV ===\n",
    "df_ItBRI = pd.read_csv('../../dataset/data_ItBRI.csv')\n",
    "df_ItPLN = pd.read_csv('../../dataset/data_ItPLN.csv')\n",
    "df_ITTS = pd.read_csv('../../dataset/data_ITTS.csv')\n",
    "df_Tel_U = pd.read_csv('../../dataset/data_Tel-U.csv')\n",
    "df_UISI = pd.read_csv('../../dataset/data_UISI.csv')\n",
    "df_ULBI = pd.read_csv('../../dataset/data_ULBI.csv')\n",
    "df_Uper = pd.read_csv('../../dataset/data_Uper.csv')\n"
   ]
  },
  {
   "cell_type": "code",
   "execution_count": 3,
   "id": "ed56b5f9",
   "metadata": {},
   "outputs": [
    {
     "name": "stdout",
     "output_type": "stream",
     "text": [
      "Data ItBRI: 78 rows, 9 columns\n",
      "Data ItPLN: 188 rows, 9 columns\n",
      "Data ITTS: 803 rows, 9 columns\n",
      "Data Tel-U: 988 rows, 9 columns\n",
      "Data UISI: 188 rows, 9 columns\n",
      "Data ULBI: 596 rows, 9 columns\n",
      "Data Uper: 803 rows, 9 columns\n"
     ]
    }
   ],
   "source": [
    "# Cek jumlah baris dan kolom\n",
    "print(\"Data ItBRI: \" + str(df_ItBRI.shape[0]) + \" rows, \" + str(df_ItBRI.shape[1]) + \" columns\")\n",
    "print(\"Data ItPLN: \" + str(df_ItPLN.shape[0]) + \" rows, \" + str(df_ItPLN.shape[1]) + \" columns\")\n",
    "print(\"Data ITTS: \" + str(df_ITTS.shape[0]) + \" rows, \" + str(df_ITTS.shape[1]) + \" columns\")\n",
    "print(\"Data Tel-U: \" + str(df_Tel_U.shape[0]) + \" rows, \" + str(df_Tel_U.shape[1]) + \" columns\")\n",
    "print(\"Data UISI: \" + str(df_UISI.shape[0]) + \" rows, \" + str(df_UISI.shape[1]) + \" columns\")\n",
    "print(\"Data ULBI: \" + str(df_ULBI.shape[0]) + \" rows, \" + str(df_ULBI.shape[1]) + \" columns\")\n",
    "print(\"Data Uper: \" + str(df_Uper.shape[0]) + \" rows, \" + str(df_Uper.shape[1]) + \" columns\")"
   ]
  },
  {
   "cell_type": "code",
   "execution_count": 4,
   "id": "20fbc928",
   "metadata": {},
   "outputs": [
    {
     "name": "stdout",
     "output_type": "stream",
     "text": [
      "Index(['page', 'name', 'link', 'thumbnail', 'rating', 'date', 'snippet',\n",
      "       'images', 'local_guide'],\n",
      "      dtype='object')\n"
     ]
    }
   ],
   "source": [
    "print(df_UISI.columns)"
   ]
  },
  {
   "cell_type": "code",
   "execution_count": 11,
   "id": "7e7b2241",
   "metadata": {},
   "outputs": [],
   "source": [
    "# === Load data CSV ===\n",
    "df_ItBRI = pd.read_csv(\"../../dataset/data_ItBRI.csv\")\n",
    "df_ItBRI['label_sentimen'] = None  # Tambahkan kolom baru\n",
    "\n",
    "# === Fungsi klasifikasi sentimen ===\n",
    "def label_sentimen(snippet):\n",
    "    try:\n",
    "        prompt = f\"\"\"\n",
    "                    Tolong klasifikasikan sentimen dari review berikut ke dalam salah satu dari tiga label: positif, negatif, atau netral.\n",
    "\n",
    "                    Review: \"{snippet}\"\n",
    "\n",
    "                    Jawaban hanya satu kata: positif / negatif / netral.\n",
    "                    \"\"\"\n",
    "        response = client.chat.completions.create(\n",
    "            model=\"gpt-3.5-turbo\",  # atau gpt-4\n",
    "            messages=[\n",
    "                {\"role\": \"system\", \"content\": \"Kamu adalah asisten untuk klasifikasi sentimen review kampus.\"},\n",
    "                {\"role\": \"user\", \"content\": prompt}\n",
    "            ],\n",
    "            temperature=0.2,\n",
    "        )\n",
    "        label = response.choices[0].message.content.strip().lower()\n",
    "\n",
    "        if label in ['positif', 'negatif', 'netral']:\n",
    "            return label\n",
    "        else:\n",
    "            return 'netral'\n",
    "    except Exception as e:\n",
    "        print(f\"Terjadi error: {e}\")\n",
    "        return 'netral'"
   ]
  },
  {
   "cell_type": "code",
   "execution_count": 12,
   "id": "e330358c",
   "metadata": {},
   "outputs": [
    {
     "name": "stdout",
     "output_type": "stream",
     "text": [
      "Labeling review ke-1...\n",
      "Labeling review ke-2...\n",
      "Labeling review ke-3...\n",
      "Labeling review ke-4...\n",
      "Labeling review ke-5...\n",
      "Labeling review ke-6...\n",
      "Labeling review ke-7...\n",
      "Labeling review ke-8...\n",
      "Labeling review ke-9...\n",
      "Labeling review ke-10...\n",
      "Labeling review ke-11...\n",
      "Labeling review ke-12...\n",
      "Labeling review ke-13...\n",
      "Labeling review ke-14...\n",
      "Labeling review ke-15...\n",
      "Labeling review ke-16...\n",
      "Labeling review ke-17...\n",
      "Labeling review ke-18...\n",
      "Labeling review ke-19...\n",
      "Labeling review ke-20...\n",
      "Labeling review ke-21...\n",
      "Labeling review ke-22...\n",
      "Labeling review ke-23...\n",
      "Labeling review ke-24...\n",
      "Labeling review ke-25...\n",
      "Labeling review ke-26...\n",
      "Labeling review ke-27...\n",
      "Labeling review ke-28...\n",
      "Labeling review ke-29...\n",
      "Labeling review ke-30...\n",
      "Labeling review ke-31...\n",
      "Labeling review ke-32...\n",
      "Labeling review ke-33...\n",
      "Labeling review ke-34...\n",
      "Labeling review ke-35...\n",
      "Labeling review ke-36...\n",
      "Labeling review ke-37...\n",
      "Labeling review ke-38...\n",
      "Labeling review ke-39...\n",
      "Labeling review ke-40...\n"
     ]
    }
   ],
   "source": [
    "\n",
    "# === Loop untuk melabeli setiap review ===\n",
    "for i, row in df_ItBRI.iterrows():\n",
    "    if pd.notnull(row['snippet']):\n",
    "        print(f\"Labeling review ke-{i+1}...\")\n",
    "        df_ItBRI.at[i, 'label_sentimen'] = label_sentimen(row['snippet'])\n",
    "        time.sleep(1.5)  # Hindari rate limit\n"
   ]
  },
  {
   "cell_type": "code",
   "execution_count": 13,
   "id": "e831afd5",
   "metadata": {},
   "outputs": [
    {
     "name": "stdout",
     "output_type": "stream",
     "text": [
      "Labeling selesai. File hasil disimpan.\n"
     ]
    }
   ],
   "source": [
    "\n",
    "# Simpan ke file baru\n",
    "output_dir = '../../dataset/labeled_data/'\n",
    "os.makedirs(output_dir, exist_ok=True)\n",
    "df_ItBRI.to_csv(os.path.join(output_dir, 'ItBRI_labelled.csv'), index=False)\n",
    "print(\"Labeling selesai. File hasil disimpan.\")"
   ]
  }
 ],
 "metadata": {
  "kernelspec": {
   "display_name": "Python 3",
   "language": "python",
   "name": "python3"
  },
  "language_info": {
   "codemirror_mode": {
    "name": "ipython",
    "version": 3
   },
   "file_extension": ".py",
   "mimetype": "text/x-python",
   "name": "python",
   "nbconvert_exporter": "python",
   "pygments_lexer": "ipython3",
   "version": "3.10.4"
  }
 },
 "nbformat": 4,
 "nbformat_minor": 5
}
