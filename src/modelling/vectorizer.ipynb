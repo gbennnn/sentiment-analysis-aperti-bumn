{
 "cells": [
  {
   "cell_type": "code",
   "execution_count": null,
   "metadata": {},
   "outputs": [
    {
     "name": "stdout",
     "output_type": "stream",
     "text": [
      "Jumlah total data: 3149\n"
     ]
    }
   ],
   "source": [
    "import os\n",
    "import pandas as pd\n",
    "\n",
    "# Path to the dataset directory\n",
    "dataset_dir = r'C:\\Users\\hp\\OneDrive\\Documents\\Kuliah CS\\Semester 6\\Machine Learning\\UAS Tubes\\dataset\\labeled_data'\n",
    "\n",
    "# List all CSV files in the directory\n",
    "csv_files = [f for f in os.listdir(dataset_dir) if f.endswith('.csv')]\n",
    "\n",
    "# Read and concatenate all CSV files\n",
    "df_list = [pd.read_csv(os.path.join(dataset_dir, file)) for file in csv_files]\n",
    "gabungan_dataset = pd.concat(df_list, ignore_index=True)\n",
    "\n",
    "# Optional: display the shape of the combined dataset\n",
    "print(f'Jumlah total data: {gabungan_dataset.shape[0]}')"
   ]
  },
  {
   "cell_type": "code",
   "execution_count": 2,
   "metadata": {},
   "outputs": [
    {
     "data": {
      "text/plain": [
       "['tfidf_vectorizer.joblib']"
      ]
     },
     "execution_count": 2,
     "metadata": {},
     "output_type": "execute_result"
    }
   ],
   "source": [
    "from sklearn.feature_extraction.text import TfidfVectorizer\n",
    "import joblib\n",
    "\n",
    "# Pastikan kolom 'snippet' tidak null\n",
    "snippets = gabungan_dataset['snippet'].dropna().astype(str)\n",
    "\n",
    "# Buat dan fit vectorizer\n",
    "tfidf_vectorizer = TfidfVectorizer()\n",
    "tfidf_vectorizer.fit(snippets)\n",
    "\n",
    "# Simpan vectorizer dengan joblib\n",
    "joblib.dump(tfidf_vectorizer, 'tfidf_vectorizer.joblib')"
   ]
  }
 ],
 "metadata": {
  "kernelspec": {
   "display_name": "Python 3",
   "language": "python",
   "name": "python3"
  },
  "language_info": {
   "codemirror_mode": {
    "name": "ipython",
    "version": 3
   },
   "file_extension": ".py",
   "mimetype": "text/x-python",
   "name": "python",
   "nbconvert_exporter": "python",
   "pygments_lexer": "ipython3",
   "version": "3.10.4"
  }
 },
 "nbformat": 4,
 "nbformat_minor": 2
}
