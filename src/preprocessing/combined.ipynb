{
 "cells": [
  {
   "cell_type": "code",
   "execution_count": 4,
   "metadata": {},
   "outputs": [
    {
     "name": "stdout",
     "output_type": "stream",
     "text": [
      "Dataset berhasil digabung dan disimpan sebagai 'all_campus_combined.csv'\n"
     ]
    }
   ],
   "source": [
    "import os\n",
    "import pandas as pd\n",
    "\n",
    "# 1. Tentukan folder tempat menyimpan file CSV\n",
    "folder_path = '../../dataset/balanced_data/'  # sesuaikan dengan lokasi folder kamu\n",
    "\n",
    "# 2. Buat list untuk menyimpan semua DataFrame\n",
    "all_dfs = []\n",
    "\n",
    "# 3. Loop semua file di folder tersebut\n",
    "for file_name in os.listdir(folder_path):\n",
    "    if file_name.endswith('.csv'):\n",
    "        file_path = os.path.join(folder_path, file_name)\n",
    "        \n",
    "        # Baca file\n",
    "        df = pd.read_csv(file_path)\n",
    "        \n",
    "        # Tambahkan kolom nama kampus dari nama file (tanpa .csv)\n",
    "        df['kampus'] = file_name.replace('.csv', '')\n",
    "        \n",
    "        # Simpan ke list\n",
    "        all_dfs.append(df)\n",
    "\n",
    "# 4. Gabungkan semua DataFrame\n",
    "combined_df = pd.concat(all_dfs, ignore_index=True)\n",
    "\n",
    "# 5. Simpan ke file baru\n",
    "combined_df.to_csv('all_campus_combined.csv', index=False)\n",
    "\n",
    "print(\"Dataset berhasil digabung dan disimpan sebagai 'all_campus_combined.csv'\")\n"
   ]
  }
 ],
 "metadata": {
  "kernelspec": {
   "display_name": "Python 3",
   "language": "python",
   "name": "python3"
  },
  "language_info": {
   "codemirror_mode": {
    "name": "ipython",
    "version": 3
   },
   "file_extension": ".py",
   "mimetype": "text/x-python",
   "name": "python",
   "nbconvert_exporter": "python",
   "pygments_lexer": "ipython3",
   "version": "3.10.4"
  }
 },
 "nbformat": 4,
 "nbformat_minor": 2
}
